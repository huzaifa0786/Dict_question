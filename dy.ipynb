{
 "metadata": {
  "language_info": {
   "codemirror_mode": {
    "name": "ipython",
    "version": 3
   },
   "file_extension": ".py",
   "mimetype": "text/x-python",
   "name": "python",
   "nbconvert_exporter": "python",
   "pygments_lexer": "ipython3",
   "version": "3.9.2-final"
  },
  "orig_nbformat": 2,
  "kernelspec": {
   "name": "python3",
   "display_name": "Python 3.9.2 64-bit",
   "metadata": {
    "interpreter": {
     "hash": "22f6b988c804dbe7f5299c324c699b3fe3ab9f3e2c9d2f5abcd1a724d93c420b"
    }
   }
  }
 },
 "nbformat": 4,
 "nbformat_minor": 2,
 "cells": [
  {
   "cell_type": "code",
   "execution_count": 1,
   "metadata": {},
   "outputs": [
    {
     "output_type": "stream",
     "name": "stdout",
     "text": [
      "None\n"
     ]
    }
   ],
   "source": [
    "##1\n",
    "dic={1:10,2:20,3:40}\n",
    "x=list(dic.values())\n",
    "print(x.sort())\n"
   ]
  },
  {
   "cell_type": "code",
   "execution_count": 2,
   "metadata": {},
   "outputs": [
    {
     "output_type": "stream",
     "name": "stdout",
     "text": [
      "{1: 10, 2: 20, 3: 30}\n"
     ]
    }
   ],
   "source": [
    "##2\n",
    "dic={1:10,2:20}\n",
    "dic[3]=30\n",
    "print(dic)"
   ]
  },
  {
   "cell_type": "code",
   "execution_count": 35,
   "metadata": {},
   "outputs": [
    {
     "output_type": "stream",
     "name": "stdout",
     "text": [
      "{1: 10, 2: 20, 3: 40}\n"
     ]
    }
   ],
   "source": [
    "##3\n",
    "dic={1:10,2:20}\n",
    "dic1={1:10,2:20,3:40}\n",
    "dic.update(dic1)\n",
    "print(dic)"
   ]
  },
  {
   "cell_type": "code",
   "execution_count": 38,
   "metadata": {},
   "outputs": [
    {
     "output_type": "stream",
     "name": "stdout",
     "text": [
      "dict_values([10, 20, 40])\ndict_values([10, 20, 40])\ndict_values([10, 20, 40])\n"
     ]
    }
   ],
   "source": [
    "##5\n",
    "dic1={1:10,2:20,3:40}\n",
    "for i in range(0,len(dic1)):\n",
    "    print(dic1.values())"
   ]
  },
  {
   "cell_type": "code",
   "execution_count": 8,
   "metadata": {},
   "outputs": [
    {
     "output_type": "stream",
     "name": "stdout",
     "text": [
      "{1: 1, 2: 4}\n"
     ]
    }
   ],
   "source": [
    "##6\n",
    "d={}\n",
    "n=int(input(\"Enter the number\"))\n",
    "for i in range(1,n+1):\n",
    "    d[i]=i*i\n",
    "print(d) "
   ]
  },
  {
   "cell_type": "code",
   "execution_count": 52,
   "metadata": {},
   "outputs": [
    {
     "output_type": "stream",
     "name": "stdout",
     "text": [
      "{1: 1, 2: 4, 3: 9, 4: 16, 5: 25, 6: 36, 7: 49, 8: 64, 9: 81, 10: 100, 11: 121, 12: 144, 13: 169, 14: 196, 15: 225}\n"
     ]
    }
   ],
   "source": [
    "##7\n",
    "d={}\n",
    "n=int(input(\"Enter the number\"))\n",
    "for x in range(1,n+1):\n",
    "    d[x]=x*x\n",
    "print(d) "
   ]
  },
  {
   "cell_type": "code",
   "execution_count": 54,
   "metadata": {},
   "outputs": [
    {
     "output_type": "stream",
     "name": "stdout",
     "text": [
      "{1: 10, 2: 20, 3: 40, 4: 60, 7: 80}\n"
     ]
    }
   ],
   "source": [
    "##8\n",
    "dic={1:10,2:20}\n",
    "dic1={1:10,2:20,3:40,4:60,7:80}\n",
    "dic1.update(dic)\n",
    "print(dic1)"
   ]
  },
  {
   "cell_type": "code",
   "execution_count": 5,
   "metadata": {},
   "outputs": [
    {
     "output_type": "stream",
     "name": "stdout",
     "text": [
      "1\n2\n3\n4\n7\n"
     ]
    }
   ],
   "source": [
    "##9\n",
    "dic1={1:10,2:20,3:40,4:60,7:80}\n",
    "for i in dic1:\n",
    "    print(i)"
   ]
  },
  {
   "cell_type": "code",
   "execution_count": 7,
   "metadata": {},
   "outputs": [
    {
     "output_type": "stream",
     "name": "stdout",
     "text": [
      "[10, 20, 40, 60, 80]\n210\n"
     ]
    }
   ],
   "source": [
    "##10\n",
    "dic1={1:10,2:20,3:40,4:60,7:80}\n",
    "x=list(dic1.values())\n",
    "print(x)\n",
    "print(sum(x))"
   ]
  },
  {
   "cell_type": "code",
   "execution_count": 11,
   "metadata": {},
   "outputs": [
    {
     "output_type": "stream",
     "name": "stdout",
     "text": [
      "100\n400\n1600\n3600\n6400\n"
     ]
    }
   ],
   "source": [
    "##11\n",
    "dic1={1:10,2:20,3:40,4:60,7:80}\n",
    "x=list(dic1.values())\n",
    "for i in x:\n",
    "    print(i*i)"
   ]
  },
  {
   "cell_type": "code",
   "execution_count": 13,
   "metadata": {},
   "outputs": [
    {
     "output_type": "stream",
     "name": "stdout",
     "text": [
      "{1: 10, 2: 20, 3: 40, 7: 80}\n"
     ]
    }
   ],
   "source": [
    "##12\n",
    "dic1={1:10,2:20,3:40,4:60,7:80}\n",
    "del dic1[4]\n",
    "print(dic1)"
   ]
  },
  {
   "cell_type": "code",
   "execution_count": 15,
   "metadata": {},
   "outputs": [
    {
     "output_type": "stream",
     "name": "stdout",
     "text": [
      "{1: 10, 2: 20, 3: 40, 4: 60, 7: 80, 8: 90, 9: 110}\n"
     ]
    }
   ],
   "source": [
    "##13\n",
    "dic1={1:10,2:20,3:40,4:60,7:80}\n",
    "dic={1: 10, 2: 20, 3: 40, 7: 80,8:90,9:110}\n",
    "dic1.update(dic)\n",
    "print(dic1)##error"
   ]
  },
  {
   "cell_type": "code",
   "execution_count": 17,
   "metadata": {},
   "outputs": [
    {
     "output_type": "stream",
     "name": "stdout",
     "text": [
      "[1, 2, 3, 7, 8, 9]\n"
     ]
    }
   ],
   "source": [
    "##14\n",
    "dic={1: 10, 2: 20, 3: 40, 7: 80,8:90,9:110}\n",
    "x=list(dic.keys())\n",
    "x.sort()\n",
    "print(x)"
   ]
  },
  {
   "cell_type": "code",
   "execution_count": 18,
   "metadata": {},
   "outputs": [
    {
     "output_type": "stream",
     "name": "stdout",
     "text": [
      "110\n"
     ]
    }
   ],
   "source": [
    "##15\n",
    "dic={1: 10, 2: 20,2:20 ,3: 40, 7: 80,8:90,9:110}\n",
    "x=list(dic.values())\n",
    "print(max(x))"
   ]
  },
  {
   "cell_type": "code",
   "execution_count": 19,
   "metadata": {},
   "outputs": [
    {
     "output_type": "stream",
     "name": "stdout",
     "text": [
      "{1: 10, 2: 20, 3: 40, 7: 80, 8: 90, 9: 110}\n"
     ]
    }
   ],
   "source": [
    "##17\n",
    "dic={1: 10, 2: 20,2:20 ,3: 40, 7: 80,8:90,9:110}\n",
    "set(dic)\n",
    "print(dic)"
   ]
  },
  {
   "cell_type": "code",
   "execution_count": null,
   "metadata": {},
   "outputs": [],
   "source": [
    "##18\n",
    "dic={1: 10, 2: 20,2:20 ,3: 40, 7: 80,8:90,9:110}\n",
    "len(dic)\n",
    "print(dic)"
   ]
  },
  {
   "cell_type": "code",
   "execution_count": 1,
   "metadata": {},
   "outputs": [
    {
     "output_type": "stream",
     "name": "stdout",
     "text": [
      "{1: 10, 2: 20, 3: 40, 7: 80, 8: 90, 9: 110}\n"
     ]
    }
   ],
   "source": []
  },
  {
   "cell_type": "code",
   "execution_count": 5,
   "metadata": {},
   "outputs": [
    {
     "output_type": "stream",
     "name": "stdout",
     "text": [
      "{1: 20, 2: 40, 3: 80, 7: 160, 8: 90, 9: 110}\n"
     ]
    }
   ],
   "source": [
    "##19\n",
    "dic={1: 10, 2: 20,2:20 ,3: 40, 7: 80,8:90,9:110}\n",
    "dic1={1:10,2:20,3:40,4:60,7:80}\n",
    "for i in dic:\n",
    "    if i in dic1:\n",
    "        dic[i]=dic[i]+dic1[i]\n",
    "    else:\n",
    "        pass\n",
    "print(dic)"
   ]
  },
  {
   "cell_type": "code",
   "execution_count": 25,
   "metadata": {},
   "outputs": [
    {
     "output_type": "stream",
     "name": "stdout",
     "text": [
      "{40, 10, 110, 80, 20, 90, 60}\n"
     ]
    }
   ],
   "source": [
    "##20\n",
    "dic={1: 10, 2: 20,2:20 ,3: 40,8:90,9:110,1:10,2:20,3:40,4:60,7:80}\n",
    "\n",
    "value=set(val for i in dic for val in dic.values())\n",
    "print(value)"
   ]
  },
  {
   "cell_type": "code",
   "execution_count": 16,
   "metadata": {},
   "outputs": [
    {
     "output_type": "stream",
     "name": "stdout",
     "text": [
      "ac\nbd\n"
     ]
    }
   ],
   "source": [
    "##21\n",
    "from itertools import product \n",
    "d={'1':['a','b'],'2':['c','d']}\n",
    "\n",
    "\n",
    "\n",
    "\n",
    "    "
   ]
  },
  {
   "cell_type": "code",
   "execution_count": 9,
   "metadata": {},
   "outputs": [
    {
     "output_type": "stream",
     "name": "stdout",
     "text": [
      "[1, 2, 3, 7, 8, 9]\n2\n"
     ]
    }
   ],
   "source": [
    "##22\n",
    "dic={1: 20, 2: 40, 3: 80, 7: 160, 8: 90, 9: 110}\n",
    "x=list(dic.keys())\n",
    "print(x)\n",
    "print(x[1])"
   ]
  },
  {
   "cell_type": "code",
   "execution_count": 23,
   "metadata": {},
   "outputs": [
    {
     "output_type": "stream",
     "name": "stdout",
     "text": [
      "{'item1': 350, 'item2': 700}\n"
     ]
    }
   ],
   "source": [
    "##23\n",
    "item_lst=[{'item':'item1','amount':400},{'item':'item2','amount':700},{'item':'item1','amount':350}]\n",
    "finald={}\n",
    "for i in item_lst:\n",
    "    j=0\n",
    "    for x,y in i.items():\n",
    "        j=j+1\n",
    "        if(j==1 and y is  not in finald.keys()):\n",
    "            finald[y]=0\n",
    "            a=y\n",
    "        else:\n",
    "            finald[a]=finald[a]+y\n",
    "print(finald)"
   ]
  },
  {
   "cell_type": "code",
   "execution_count": 15,
   "metadata": {},
   "outputs": [
    {
     "output_type": "stream",
     "name": "stdout",
     "text": [
      "{'w': 1, '3': 1, 'r': 2, 'e': 2, 's': 1, 'o': 1, 'u': 1, 'c': 1}\n"
     ]
    }
   ],
   "source": [
    "##24\n",
    "st=\"w3resource\"\n",
    "dic={}\n",
    "\n",
    "for i in st:\n",
    "    if i in dic:\n",
    "        dic[i] +=1\n",
    "    else:\n",
    "        dic[i]  =1\n",
    "print(dic)\n",
    "        \n",
    "        \n",
    "    \n"
   ]
  },
  {
   "cell_type": "code",
   "execution_count": null,
   "metadata": {},
   "outputs": [],
   "source": [
    "##25\n",
    "dct={\"Yash\":70,\"Aman\":80,\"Nikhil\":90}\n",
    "print (\"{:<10} {:<10}\".format('NAME',\"Marks\"))\n",
    "for x,y in dct.items():\n",
    "    print (\"{:<10} {:<10}\".format(x,y))"
   ]
  },
  {
   "cell_type": "code",
   "execution_count": 16,
   "metadata": {},
   "outputs": [
    {
     "output_type": "stream",
     "name": "stdout",
     "text": [
      "{'a': [1, 2, 4], 'b': [4, 7, 8], 'c': [1, 2, 6]}\n"
     ]
    }
   ],
   "source": [
    "##27\n",
    "dic={'a':[2,4,1], 'b':[7,4,8] , 'c': [2,6,1]}\n",
    "sorted_dic={x:sorted(y) for x,y in dic.items()}\n",
    "print (sorted_dic)"
   ]
  },
  {
   "cell_type": "code",
   "execution_count": 24,
   "metadata": {},
   "outputs": [
    {
     "output_type": "stream",
     "name": "stdout",
     "text": [
      "{'Yash': 'computer', 'Aman': 'maths', 'Nikhil': 'bussiness'}\n"
     ]
    }
   ],
   "source": [
    "##29\n",
    "dic={   \"Yash\":'computer', \"Aman\"  :'maths', \"Nikhil\" : 'bussiness'}\n",
    "dic_x = {x.replace(' ', ''): v for x, v in dic.items()}\n",
    "print(dic_x)"
   ]
  },
  {
   "cell_type": "code",
   "execution_count": 18,
   "metadata": {},
   "outputs": [
    {
     "output_type": "stream",
     "name": "stdout",
     "text": [
      "dict_keys([1, 2, 3, 7, 8, 9])\ndict_values([20, 40, 80, 160, 90, 110])\ndict_items([(1, 20), (2, 40), (3, 80), (7, 160), (8, 90), (9, 110)])\n"
     ]
    }
   ],
   "source": [
    "##31\n",
    "dic={1: 20, 2: 40, 3: 80, 7: 160, 8: 90, 9: 110}\n",
    "print(dic.keys())\n",
    "print(dic.values())\n",
    "print(dic.items())\n"
   ]
  },
  {
   "cell_type": "code",
   "execution_count": 37,
   "metadata": {},
   "outputs": [
    {
     "output_type": "stream",
     "name": "stdout",
     "text": [
      "\n\nhuzaifa 75 84 85 \n\nHarsh 88 87 90 \n\nfaizan 91 92 95 "
     ]
    }
   ],
   "source": [
    "##32\n",
    "dic={'huzaifa': [75,84,85] ,'Harsh': [88,87,90] ,\"faizan\": [91,92,95]}\n",
    "for i in dic:\n",
    "    print('\\n')\n",
    "    print(i,end=' ')\n",
    "    for j in dic[i]:\n",
    "        print(j,end=' ')"
   ]
  },
  {
   "cell_type": "code",
   "execution_count": null,
   "metadata": {},
   "outputs": [],
   "source": [
    "##36\n",
    "dic"
   ]
  },
  {
   "cell_type": "code",
   "execution_count": 22,
   "metadata": {},
   "outputs": [
    {
     "output_type": "error",
     "ename": "AttributeError",
     "evalue": "'str' object has no attribute 'values'",
     "traceback": [
      "\u001b[1;31m---------------------------------------------------------------------------\u001b[0m",
      "\u001b[1;31mAttributeError\u001b[0m                            Traceback (most recent call last)",
      "\u001b[1;32m<ipython-input-22-f84e850c68d1>\u001b[0m in \u001b[0;36m<module>\u001b[1;34m\u001b[0m\n\u001b[0;32m      4\u001b[0m \u001b[1;32mfor\u001b[0m \u001b[0mi\u001b[0m \u001b[1;32min\u001b[0m \u001b[0mdic\u001b[0m\u001b[1;33m:\u001b[0m\u001b[1;33m\u001b[0m\u001b[1;33m\u001b[0m\u001b[0m\n\u001b[0;32m      5\u001b[0m     \u001b[1;32mfor\u001b[0m \u001b[0mj\u001b[0m \u001b[1;32min\u001b[0m \u001b[0mdic1\u001b[0m\u001b[1;33m:\u001b[0m\u001b[1;33m\u001b[0m\u001b[1;33m\u001b[0m\u001b[0m\n\u001b[1;32m----> 6\u001b[1;33m         \u001b[1;32mif\u001b[0m\u001b[1;33m(\u001b[0m\u001b[0mi\u001b[0m\u001b[1;33m.\u001b[0m\u001b[0mvalues\u001b[0m\u001b[1;33m(\u001b[0m\u001b[1;33m)\u001b[0m\u001b[1;33m==\u001b[0m\u001b[0mj\u001b[0m\u001b[1;33m.\u001b[0m\u001b[0mvalues\u001b[0m\u001b[1;33m(\u001b[0m\u001b[1;33m)\u001b[0m\u001b[1;33m)\u001b[0m\u001b[1;33m:\u001b[0m\u001b[1;33m\u001b[0m\u001b[1;33m\u001b[0m\u001b[0m\n\u001b[0m\u001b[0;32m      7\u001b[0m             \u001b[0mprint\u001b[0m\u001b[1;33m(\u001b[0m\u001b[1;34m\"%s %s Yes it is present\"\u001b[0m \u001b[1;33m%\u001b[0m\u001b[1;33m(\u001b[0m\u001b[0mi\u001b[0m\u001b[1;33m,\u001b[0m\u001b[0mj\u001b[0m\u001b[1;33m)\u001b[0m\u001b[1;33m)\u001b[0m\u001b[1;33m\u001b[0m\u001b[1;33m\u001b[0m\u001b[0m\n\u001b[0;32m      8\u001b[0m         \u001b[1;32melse\u001b[0m\u001b[1;33m:\u001b[0m\u001b[1;33m\u001b[0m\u001b[1;33m\u001b[0m\u001b[0m\n",
      "\u001b[1;31mAttributeError\u001b[0m: 'str' object has no attribute 'values'"
     ]
    }
   ],
   "source": [
    "##38\n",
    "dic=set({'key1':1,'key2':3,'key3':2})\n",
    "dic1=set({'key1':1,'key2':2})\n",
    "for i in dic:\n",
    "    for j in dic1:\n",
    "        if(i==j):\n",
    "            print(\"%s %s Yes it is present\" %(i,j))\n",
    "        else:\n",
    "            pass\n"
   ]
  },
  {
   "cell_type": "code",
   "execution_count": 37,
   "metadata": {},
   "outputs": [
    {
     "output_type": "error",
     "ename": "NameError",
     "evalue": "name 'sortred' is not defined",
     "traceback": [
      "\u001b[1;31m---------------------------------------------------------------------------\u001b[0m",
      "\u001b[1;31mNameError\u001b[0m                                 Traceback (most recent call last)",
      "\u001b[1;32m<ipython-input-37-12dcec3d646c>\u001b[0m in \u001b[0;36m<module>\u001b[1;34m\u001b[0m\n\u001b[0;32m      1\u001b[0m \u001b[0mdic\u001b[0m\u001b[1;33m=\u001b[0m\u001b[1;33m{\u001b[0m\u001b[1;34m'chemistry'\u001b[0m\u001b[1;33m:\u001b[0m \u001b[1;36m80\u001b[0m\u001b[1;33m,\u001b[0m \u001b[1;34m'math'\u001b[0m\u001b[1;33m:\u001b[0m \u001b[1;36m90\u001b[0m\u001b[1;33m,\u001b[0m \u001b[1;34m\"computer\"\u001b[0m\u001b[1;33m:\u001b[0m \u001b[1;36m95\u001b[0m\u001b[1;33m}\u001b[0m\u001b[1;33m\u001b[0m\u001b[1;33m\u001b[0m\u001b[0m\n\u001b[0;32m      2\u001b[0m \u001b[0mlst\u001b[0m\u001b[1;33m=\u001b[0m\u001b[1;33m(\u001b[0m\u001b[0mval\u001b[0m \u001b[1;32mfor\u001b[0m \u001b[0mi\u001b[0m \u001b[1;32min\u001b[0m \u001b[0mdic\u001b[0m \u001b[1;32mfor\u001b[0m \u001b[0mval\u001b[0m \u001b[1;32min\u001b[0m \u001b[0mdic\u001b[0m\u001b[1;33m.\u001b[0m\u001b[0mvalues\u001b[0m\u001b[1;33m(\u001b[0m\u001b[1;33m)\u001b[0m\u001b[1;33m)\u001b[0m\u001b[1;33m\u001b[0m\u001b[1;33m\u001b[0m\u001b[0m\n\u001b[1;32m----> 3\u001b[1;33m \u001b[0mprint\u001b[0m\u001b[1;33m(\u001b[0m\u001b[0msortred\u001b[0m\u001b[1;33m(\u001b[0m\u001b[0mlst\u001b[0m\u001b[1;33m)\u001b[0m\u001b[1;33m)\u001b[0m\u001b[1;33m\u001b[0m\u001b[1;33m\u001b[0m\u001b[0m\n\u001b[0m\u001b[0;32m      4\u001b[0m \u001b[0mprint\u001b[0m\u001b[1;33m(\u001b[0m\u001b[0mlst\u001b[0m\u001b[1;33m)\u001b[0m\u001b[1;33m\u001b[0m\u001b[1;33m\u001b[0m\u001b[0m\n",
      "\u001b[1;31mNameError\u001b[0m: name 'sortred' is not defined"
     ]
    }
   ],
   "source": [
    "dic={'chemistry': 80, 'math': 90, \"computer\": 95}\n",
    "lst=(val for i in dic for val in dic.values())"
   ]
  },
  {
   "cell_type": "code",
   "execution_count": 39,
   "metadata": {},
   "outputs": [
    {
     "output_type": "stream",
     "name": "stdout",
     "text": [
      "16\n26\n36\n"
     ]
    }
   ],
   "source": [
    "##40\n",
    "dic={'x': range(11,20), 'y': range(21,30), \"z\": range(31,40)}\n",
    "print(dic['x'][5])\n",
    "print(dic['y'][5])\n",
    "print(dic['z'][5])"
   ]
  },
  {
   "cell_type": "code",
   "execution_count": 19,
   "metadata": {},
   "outputs": [
    {
     "output_type": "error",
     "ename": "SyntaxError",
     "evalue": "invalid syntax (<ipython-input-19-ae5d25af23c6>, line 1)",
     "traceback": [
      "\u001b[1;36m  File \u001b[1;32m\"<ipython-input-19-ae5d25af23c6>\"\u001b[1;36m, line \u001b[1;32m1\u001b[0m\n\u001b[1;33m    from collections import Counter import defaultdict\u001b[0m\n\u001b[1;37m                                    ^\u001b[0m\n\u001b[1;31mSyntaxError\u001b[0m\u001b[1;31m:\u001b[0m invalid syntax\n"
     ]
    }
   ],
   "source": [
    "from collections import defaultdict\n",
    "lst=['1','2','3','3','2','4','6','7','7']\n",
    "x=Counter(lst)\n",
    "c=defaultdict(x)\n",
    "print(c)\n",
    "\n"
   ]
  },
  {
   "cell_type": "code",
   "execution_count": 29,
   "metadata": {},
   "outputs": [
    {
     "output_type": "stream",
     "name": "stdout",
     "text": [
      "Nikhil     90        \nAman       80        \nYash       70        \n"
     ]
    }
   ],
   "source": [
    "dct={\"Yash\":70,\"Aman\":80,\"Nikhil\":90}\n",
    "\n",
    "x=list(dct.values())\n",
    "y=list(dct.keys())\n",
    "\n",
    "tmp=list(x)\n",
    "\n",
    "tmp.sort(reverse=True)\n",
    "\n",
    "for i in tmp : \n",
    "    \n",
    "    print (\"{:<10} {:<10}\".format(y[x.index(i)],i))\n",
    "    "
   ]
  },
  {
   "cell_type": "code",
   "execution_count": 14,
   "metadata": {},
   "outputs": [
    {
     "output_type": "stream",
     "name": "stdout",
     "text": [
      "Nikhil\n{'Yash': 70, 'Aman': 80}\n"
     ]
    }
   ],
   "source": [
    "##41\n",
    "dct={\"Yash\":70,\"Aman\":80,\"Nikhil\":'none'}\n",
    "y=[]\n",
    "for x in dct:\n",
    "    if dct[x] is 'none':\n",
    "        y.append(x)\n",
    "    \n",
    "print(y[0])\n",
    "del dct[y[0]]\n",
    "print(dct)"
   ]
  },
  {
   "cell_type": "code",
   "execution_count": null,
   "metadata": {},
   "outputs": [],
   "source": [
    "dct={\"Yash\":70,\"Aman\":80,\"Nikhil\":90}\n"
   ]
  },
  {
   "cell_type": "code",
   "execution_count": 3,
   "metadata": {},
   "outputs": [
    {
     "output_type": "stream",
     "name": "stdout",
     "text": [
      "Original list:\n[('yellow', 1), ('blue', 2), ('yellow', 3), ('blue', 4), ('red', 1)]\n\nGrouping a sequence of key-value pairs into a dictionary of lists:\n{'yellow': [1, 3], 'blue': [2, 4], 'red': [1]}\n"
     ]
    }
   ],
   "source": [
    "def grouping_dictionary(l):\n",
    "    result = {}\n",
    "    for k, v in l:\n",
    "         result.setdefault(k, []).append(v)\n",
    "    return result\n",
    "colors = [('yellow', 1), ('blue', 2), ('yellow', 3), ('blue', 4), ('red', 1)]\n",
    "print(\"Original list:\")\n",
    "print(colors)\n",
    "print(\"\\nGrouping a sequence of key-value pairs into a dictionary of lists:\")\n",
    "print(grouping_dictionary(colors))"
   ]
  },
  {
   "cell_type": "code",
   "execution_count": null,
   "metadata": {},
   "outputs": [],
   "source": []
  }
 ]
}